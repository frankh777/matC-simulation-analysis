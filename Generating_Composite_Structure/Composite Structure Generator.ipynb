{
 "cells": [
  {
   "cell_type": "code",
   "execution_count": 42,
   "metadata": {},
   "outputs": [],
   "source": [
    "#Code copied 100% (besides the structure name) from\n",
    "#https://stackoverflow.com/questions/49356018/how-to-calculate-the-average-structure-of-a-protein-with-multiple-models-conform\n",
    "\n",
    "#In order to use, you must make a model PDB structure that contains each structure you want to average one after another\n",
    "#Currently this is done manually\n",
    "\n",
    "import Bio.PDB\n",
    "import numpy as np\n",
    "\n",
    "pdbid='NAME'\n",
    "\n",
    "parser = Bio.PDB.PDBParser(QUIET=True)  # Don't show me warnings\n",
    "structure = parser.get_structure(pdbid, pdbid+'.pdb')  # id of pdb file and location\n",
    "\n",
    "atoms = [a.parent.parent.id + '-' + str(a.parent.id[1]) + '-' +  a.name for a in structure[0].get_atoms() if a.parent.id[0] == ' ']  # obtained from model '0'\n",
    "\n",
    "atom_avgs = {}\n",
    "for atom in atoms:\n",
    "    atom_avgs[atom] = []\n",
    "    for model in structure:\n",
    "        atom_ = atom.split('-')\n",
    "        coor = model[atom_[0]][int(atom_[1])][atom_[2]].coord\n",
    "        atom_avgs[atom].append(coor)\n",
    "    atom_avgs[atom] = sum(atom_avgs[atom]) / len(atom_avgs[atom])  # average\n",
    "    \n",
    "ns = Bio.PDB.StructureBuilder.Structure('id='+pdbid)  #  new structure\n",
    "ns.add(structure[0])  # add model 0\n",
    "for atom in ns[0].get_atoms():\n",
    "    chain = atom.parent.parent\n",
    "    res = atom.parent\n",
    "    if res.id[0] != ' ':\n",
    "        chain.detach_child(res)  # detach hetres\n",
    "    else:\n",
    "        coor = atom_avgs[chain.id + '-' + str(res.id[1]) + '-' + atom.name]\n",
    "        atom.coord = coor\n",
    "        \n",
    "io = Bio.PDB.PDBIO()\n",
    "io.set_structure(ns)\n",
    "io.save('avg_'+pdbid+'.pdb')"
   ]
  },
  {
   "cell_type": "code",
   "execution_count": null,
   "metadata": {},
   "outputs": [],
   "source": []
  }
 ],
 "metadata": {
  "kernelspec": {
   "display_name": "Python 3",
   "language": "python",
   "name": "python3"
  },
  "language_info": {
   "codemirror_mode": {
    "name": "ipython",
    "version": 3
   },
   "file_extension": ".py",
   "mimetype": "text/x-python",
   "name": "python",
   "nbconvert_exporter": "python",
   "pygments_lexer": "ipython3",
   "version": "3.7.6"
  }
 },
 "nbformat": 4,
 "nbformat_minor": 4
}
